{
 "cells": [
  {
   "cell_type": "code",
   "execution_count": null,
   "id": "instructional-documentary",
   "metadata": {},
   "outputs": [
    {
     "name": "stdout",
     "output_type": "stream",
     "text": [
      "--------------------fonction logique a apprendre par le percepton monocouche------------------------\n",
      "ET                  : 1\n",
      "OU                  : 2\n",
      "XOR                 : 3\n",
      "Sortir              : 0\n",
      "-----------------------------------------------------------------------------------------------------\n",
      "choisir la fonction logique :3\n",
      "apprentissage de la fonction logique **XOR**\n"
     ]
    },
    {
     "name": "stderr",
     "output_type": "stream",
     "text": [
      "d:\\python3.8.6\\lib\\site-packages\\sklearn\\neural_network\\_multilayer_perceptron.py:614: ConvergenceWarning: Stochastic Optimizer: Maximum iterations (200) reached and the optimization hasn't converged yet.\n",
      "  warnings.warn(\n"
     ]
    },
    {
     "data": {
      "image/png": "[encoded data removed]",
      "text/plain": [
       "<Figure size 432x288 with 1 Axes>"
      ]
     },
     "metadata": {
      "needs_background": "light"
     },
     "output_type": "display_data"
    },
    {
     "name": "stdout",
     "output_type": "stream",
     "text": [
      "LE TEST\n"
     ]
    }
   ],
   "source": [
    "import matplotlib.pyplot as plt\n",
    "from sklearn.neural_network import MLPClassifier \n",
    "\n",
    "x=[[0, 0], [0, 1], [1, 0], [1, 1]] #l'ensemble des entrées fournies au MLP\n",
    "\n",
    "d_ET=[0, 0, 0, 1] #L'ensemble des résultats attendus correspondants aux différents entrées pour l'operateur ET\n",
    "d_OU=[0, 1, 1, 1] #L'ensemble des résultats attendus correspondants aux différents entrées pour l'operateur OU\n",
    "d_XOR=[0, 1, 1, 0] #L'ensemble des résultats attendus correspondants aux différents entrées pour l'operateur XOR\n",
    "\n",
    "clf=MLPClassifier( )# une fonction définie qui fournit une implémentation du Perceptron \n",
    "                                                     # Multi-Couche pour la classification\n",
    "\n",
    "\n",
    "while(1):\n",
    "    print(\"--------------------fonction logique a apprendre par le percepton monocouche------------------------\")\n",
    "    print(\"ET                  : 1\")\n",
    "    print(\"OU                  : 2\")\n",
    "    print(\"XOR                 : 3\")\n",
    "    print(\"Sortir              : 0\")\n",
    "    print(\"-----------------------------------------------------------------------------------------------------\")\n",
    "    inp = input(\"choisir la fonction logique :\")\n",
    "    choix=int(inp)\n",
    "    if choix == 1:\n",
    "        print(\"apprentissage de la fonction logique **ET**\")\n",
    "        clf.fit(x,d_ET) # fonction définie d'apprentissage dans le module \"sklearn.neural_network\"\n",
    "    elif choix == 2:\n",
    "        print(\"apprentissage de la fonction logique **OU**\")\n",
    "        clf.fit(x,d_OU)\n",
    "    elif choix == 3:\n",
    "        print(\"apprentissage de la fonction logique **XOR**\")\n",
    "        clf.fit(x,d_XOR)\n",
    "    else:\n",
    "        print(\"Merci, Bye\")\n",
    "        break\n",
    "        \n",
    "    #error\n",
    "    E=clf.loss_curve_ #la courbe d’erreur retournée par la liste loss_curve_ du classifieur clf\n",
    "    \n",
    "    #plot error\n",
    "    #tracer et afficher la courbe d’erreur\n",
    "    plt.plot(E)\n",
    "    plt.ylabel(\"Erreur quadratique moyenne \")\n",
    "    plt.xlabel(\"Nombre d'itération\")\n",
    "    plt.title(\"la courbe EQM en fonction du NI \")\n",
    "    plt.show()\n",
    "    print(\"LE TEST\")\n",
    "    test=''  \n",
    "    while test != 'n':\n",
    "        E=[]\n",
    "        inp=input(\"saisie le x1 : \")\n",
    "        x1=int(inp)\n",
    "        E.append(x1)\n",
    "        while x1!=1 and x1!=0: # on va repeter cette iteration jusqu'a l'utilisateur saisie une valeur de x1 binaire\n",
    "            inp=input(\"x1 doit etre 0 ou 1.Resaisie le x1 \")\n",
    "            x1=int(inp)\n",
    "            E.append(x1)\n",
    "        inp=input(\"saisie le x2 \")\n",
    "        x2=int(inp)\n",
    "        E.append(x2)\n",
    "        while x2!=1 and x2!=0: # on va repeter cette iteration jusqu'a l'utilisateur saisie une valeur de x2 binaire\n",
    "            inp=input(\"x2 doit etre 0 ou 1.Resaisie le x2 \")\n",
    "            x2=int(inp)\n",
    "            E.append(x2)\n",
    "        print(\"Le resultat est : ======>\",clf.predict([E])) #Affichage le résultat retourné par la fonction predict\n",
    "        test = input(\"tester la fonction o/n : \")"
   ]
  },
  {
   "cell_type": "code",
   "execution_count": null,
   "id": "specific-smith",
   "metadata": {},
   "outputs": [],
   "source": []
  },
  {
   "cell_type": "code",
   "execution_count": null,
   "id": "military-looking",
   "metadata": {},
   "outputs": [],
   "source": []
  }
 ],
 "metadata": {
  "kernelspec": {
   "display_name": "Python 3",
   "language": "python",
   "name": "python3"
  },
  "language_info": {
   "codemirror_mode": {
    "name": "ipython",
    "version": 3
   },
   "file_extension": ".py",
   "mimetype": "text/x-python",
   "name": "python",
   "nbconvert_exporter": "python",
   "pygments_lexer": "ipython3",
   "version": "3.8.6"
  }
 },
 "nbformat": 4,
 "nbformat_minor": 5
}
